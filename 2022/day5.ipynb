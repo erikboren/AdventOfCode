{
 "cells": [
  {
   "cell_type": "code",
   "execution_count": 188,
   "metadata": {},
   "outputs": [],
   "source": [
    "import numpy as np\n"
   ]
  },
  {
   "cell_type": "code",
   "execution_count": 189,
   "metadata": {},
   "outputs": [],
   "source": [
    "data_file = open(\"day5 data.txt\",\"r\")\n",
    "data = data_file.readlines()"
   ]
  },
  {
   "cell_type": "code",
   "execution_count": 190,
   "metadata": {},
   "outputs": [
    {
     "name": "stdout",
     "output_type": "stream",
     "text": [
      "['A' 'B' 'C' 'D' 'E' 'F']\n",
      "F\n",
      "['A' 'B' 'C' 'D' 'E']\n",
      "['A' 'B' 'E' 'D' 'C']\n",
      "['G' 'A' 'B' 'E' 'D' 'C']\n"
     ]
    }
   ],
   "source": [
    "class stack:\n",
    "    def __init__(self,id):\n",
    "        self.id = id\n",
    "        self.stack = np.array([],dtype = str)\n",
    "    \n",
    "    def place_block(self,block):\n",
    "       self.stack = np.append(self.stack,block)\n",
    "\n",
    "    def place_blocks(self,blocks):\n",
    "        for block in blocks:\n",
    "            self.place_block(block)\n",
    "\n",
    "    def place_block_first(self,block):\n",
    "        self.stack = np.insert(self.stack,0,block)\n",
    "\n",
    "    def lift_block(self):\n",
    "        block = self.stack[-1]\n",
    "        self.stack = np.delete(self.stack,-1)\n",
    "        return block\n",
    "\n",
    "    def lift_blocks(self, nbr_of_blocks,rev=False):\n",
    "        output = np.array([])\n",
    "        for i in range(nbr_of_blocks):\n",
    "            output = np.append(output,self.lift_block())\n",
    "        \n",
    "        \n",
    "        if(rev):\n",
    "            output = np.flip(output)\n",
    "        return output\n",
    "    \n",
    "    def print_stack(self):\n",
    "        print(self.stack)\n",
    "\n",
    "    def top_block(self):\n",
    "        return self.stack[-1]\n",
    "\n",
    "test_stack = stack(1)\n",
    "\n",
    "test_stack.place_blocks(\"A\")\n",
    "\n",
    "test_stack.place_blocks([\"B\",\"C\",\"D\",\"E\",\"F\"])\n",
    "\n",
    "test_stack.print_stack()\n",
    "\n",
    "print(test_stack.lift_block())\n",
    "\n",
    "test_stack.print_stack()\n",
    "\n",
    "lifted_blocks = test_stack.lift_blocks(3)\n",
    "\n",
    "test_stack.place_blocks(lifted_blocks)\n",
    "\n",
    "test_stack.print_stack()\n",
    "\n",
    "test_stack.place_block_first(\"G\")\n",
    "\n",
    "test_stack.print_stack()"
   ]
  },
  {
   "cell_type": "code",
   "execution_count": 191,
   "metadata": {},
   "outputs": [
    {
     "name": "stdout",
     "output_type": "stream",
     "text": [
      "['A' 'B' 'C' 'D' 'E' 'F' 'G']\n",
      "[]\n",
      "['G' 'F' 'E' 'D' 'C' 'B' 'A']\n",
      "[]\n",
      "[]\n",
      "[]\n",
      "[]\n",
      "[]\n",
      "[]\n",
      "['H' 'A' 'B' 'C' 'D' 'E' 'F' 'G']\n",
      "[]\n",
      "['G' 'F' 'E' 'D' 'C' 'B' 'A']\n",
      "[]\n",
      "[]\n",
      "[]\n",
      "[]\n",
      "[]\n",
      "[]\n"
     ]
    }
   ],
   "source": [
    "class stack_container:\n",
    "    def __init__(self, nbr_of_stacks):\n",
    "        stack_array = np.array([])\n",
    "        for i in range(nbr_of_stacks):\n",
    "            stack_array = np.append(stack_array, stack(i))\n",
    "        self.stack_array = stack_array\n",
    "\n",
    "    def place_blocks(self,blocks,stack_id):\n",
    "        self.stack_array[stack_id].place_blocks(blocks)\n",
    "\n",
    "    def place_block_first(self,block,stack_id):\n",
    "        self.stack_array[stack_id].place_block_first(block)\n",
    "\n",
    "    def lift_blocks(self, nbr_of_blocks, stack_id, rev = False):\n",
    "        return self.stack_array[stack_id].lift_blocks(nbr_of_blocks, rev)\n",
    "    \n",
    "    def move_blocks(self,from_id,nbr_of_blocks,to_id, rev = False):\n",
    "        lifted_blocks = self.lift_blocks(nbr_of_blocks,from_id, rev)\n",
    "        self.place_blocks(lifted_blocks, to_id)\n",
    "\n",
    "    def print_stacks(self):\n",
    "        for stack in self.stack_array:\n",
    "            stack.print_stack()\n",
    "    \n",
    "    def print_top(self):\n",
    "        string = \"\"\n",
    "        for stack in self.stack_array:\n",
    "            string += stack.top_block()\n",
    "\n",
    "        print(string)\n",
    "       \n",
    "\n",
    "\n",
    "\n",
    "test_stack_container = stack_container(9)\n",
    "\n",
    "blocks = [\"A\",\"B\",\"C\",\"D\",\"E\",\"F\",\"G\"]\n",
    "\n",
    "blocks_rev = np.flip(blocks)\n",
    "\n",
    "test_stack_container.place_blocks(blocks,0)\n",
    "\n",
    "test_stack_container.place_blocks(blocks_rev,2)\n",
    "\n",
    "# test_stack_container.print_stacks()\n",
    "\n",
    "test_stack_container.move_blocks(0,2,2)\n",
    "\n",
    "# test_stack_container.print_stacks()\n",
    "\n",
    "test_stack_container.move_blocks(2,2,0)\n",
    "\n",
    "test_stack_container.print_stacks()\n",
    "\n",
    "test_stack_container.place_block_first(\"H\",0)\n",
    "\n",
    "test_stack_container.print_stacks()"
   ]
  },
  {
   "cell_type": "code",
   "execution_count": 192,
   "metadata": {},
   "outputs": [],
   "source": [
    "def read_stacks(data,stacks):\n",
    "    def build_stacks(line, stacks):\n",
    "        line = line.split(\"\\n\")[0]\n",
    "        for idx, char in enumerate(line):\n",
    "            if(idx%4 ==0 and char == \"[\"):\n",
    "                stack_id = int(idx/4)\n",
    "                block = line[idx+1]\n",
    "                # print(block,stack_id) \n",
    "                stacks.place_block_first(block,stack_id)\n",
    "        return \n",
    "\n",
    "   \n",
    "    line_numbers = np.linspace(1,8)\n",
    "\n",
    "    for idx,line in enumerate(data):\n",
    "        if(idx+1 in line_numbers):\n",
    "            build_stacks(line,stacks)\n",
    "        else:\n",
    "            break\n",
    "\n",
    "\n",
    "\n"
   ]
  },
  {
   "cell_type": "code",
   "execution_count": 193,
   "metadata": {},
   "outputs": [],
   "source": [
    "def read_moves(data,stacks,rev=False):\n",
    "    for idx,line in enumerate(data):\n",
    "        if(line[0:4] == \"move\"):\n",
    "            nbr_of_blocks = int(line.split(\"move \")[1].split(\" \")[0])\n",
    "            from_id = int(line.split(\"from \")[1].split(\" \")[0])-1\n",
    "            to_id = int(line.split(\"to \")[1])-1\n",
    "            stacks.move_blocks(from_id ,nbr_of_blocks, to_id,rev)"
   ]
  },
  {
   "cell_type": "code",
   "execution_count": 194,
   "metadata": {},
   "outputs": [],
   "source": [
    "stacks = stack_container(9)\n",
    "read_stacks(data,stacks)\n",
    "\n",
    "read_moves(data,stacks)"
   ]
  },
  {
   "cell_type": "code",
   "execution_count": 195,
   "metadata": {},
   "outputs": [
    {
     "name": "stdout",
     "output_type": "stream",
     "text": [
      "CWMTGHBDW\n"
     ]
    }
   ],
   "source": [
    "stacks.print_top()"
   ]
  },
  {
   "cell_type": "code",
   "execution_count": 196,
   "metadata": {},
   "outputs": [],
   "source": [
    "stacks_2 = stack_container(9)\n",
    "read_stacks(data,stacks_2)\n",
    "read_moves(data,stacks_2,True)"
   ]
  },
  {
   "cell_type": "code",
   "execution_count": 198,
   "metadata": {},
   "outputs": [
    {
     "name": "stdout",
     "output_type": "stream",
     "text": [
      "CWMTGHBDW\n"
     ]
    }
   ],
   "source": [
    "stacks_2.print_top()"
   ]
  }
 ],
 "metadata": {
  "kernelspec": {
   "display_name": "Python 3",
   "language": "python",
   "name": "python3"
  },
  "language_info": {
   "codemirror_mode": {
    "name": "ipython",
    "version": 3
   },
   "file_extension": ".py",
   "mimetype": "text/x-python",
   "name": "python",
   "nbconvert_exporter": "python",
   "pygments_lexer": "ipython3",
   "version": "3.9.0"
  },
  "orig_nbformat": 4,
  "vscode": {
   "interpreter": {
    "hash": "454075a846439ce2b363bdaa7791fad22a821ac5cf3cc53db47da379da7331e3"
   }
  }
 },
 "nbformat": 4,
 "nbformat_minor": 2
}
