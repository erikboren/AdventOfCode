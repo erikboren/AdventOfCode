{
 "cells": [
  {
   "cell_type": "code",
   "execution_count": 1,
   "metadata": {},
   "outputs": [],
   "source": [
    "data_file = open(\"day7 data.txt\",\"r\")\n",
    "data = data_file.readlines()\n",
    "\n",
    "size_dict = dict()\n",
    "\n",
    "def parse_tree(data, size_dict):\n",
    "    path = \"\"\n",
    "    for idx,line in enumerate(data):\n",
    "        if(line.startswith(\"$ cd ..\")):\n",
    "            path_to_remove = path.split(\"/\")[-2:-1]\n",
    "            path = path[0:len(path)-len(path_to_remove)-1]\n",
    "        elif(line.startswith(\"$ cd\")):\n",
    "            path_ext = line.split(\" \")[2].split(\"\\n\")[0]\n",
    "            if(path_ext == \"/\"):\n",
    "                path = \"/\"\n",
    "            else:\n",
    "                path +=  line.split(\" \")[2].split(\"\\n\")[0]+ \"/\"\n",
    "        elif(line[0].isnumeric()):\n",
    "            size = int(line.split(\" \")[0])\n",
    "            if path in size_dict:\n",
    "                size_dict[path] += size\n",
    "            else: \n",
    "                size_dict[path] = size\n",
    "            # print(path,size)\n",
    "        \n",
    "\n",
    "\n",
    "parse_tree(data,size_dict)\n",
    "# print(size_dict)"
   ]
  },
  {
   "cell_type": "code",
   "execution_count": 2,
   "metadata": {},
   "outputs": [],
   "source": [
    "def sum_dict(size_dict):\n",
    "    sum_dict = dict()\n",
    "    for idx,path in enumerate(size_dict):\n",
    "        sum_dict[path] = 0\n",
    "        for path2 in size_dict:\n",
    "            if path2.startswith(path):\n",
    "                sum_dict[path] += size_dict[path2]\n",
    "        \n",
    "    return sum_dict\n",
    "\n",
    "path_sum = sum_dict(size_dict)\n",
    "\n",
    "# print(path_sum)\n",
    "\n",
    "\n"
   ]
  },
  {
   "cell_type": "code",
   "execution_count": 3,
   "metadata": {},
   "outputs": [
    {
     "name": "stdout",
     "output_type": "stream",
     "text": [
      "1027500\n"
     ]
    }
   ],
   "source": [
    "sum = 0\n",
    "for path in path_sum:\n",
    "    if(path_sum[path]<=100000):\n",
    "        sum += path_sum[path]\n",
    "\n",
    "print(sum)\n",
    "# 1027500 is wrong!!"
   ]
  },
  {
   "cell_type": "code",
   "execution_count": 4,
   "metadata": {},
   "outputs": [],
   "source": [
    "class tree:\n",
    "    def __init__(self):\n",
    "        self.tree = dict()\n",
    "\n",
    "\n",
    "class folder:\n",
    "    def __init__(self,path):\n",
    "        self.path = path\n",
    "        self.size = 0"
   ]
  }
 ],
 "metadata": {
  "kernelspec": {
   "display_name": "Python 3",
   "language": "python",
   "name": "python3"
  },
  "language_info": {
   "codemirror_mode": {
    "name": "ipython",
    "version": 3
   },
   "file_extension": ".py",
   "mimetype": "text/x-python",
   "name": "python",
   "nbconvert_exporter": "python",
   "pygments_lexer": "ipython3",
   "version": "3.10.4"
  },
  "orig_nbformat": 4,
  "vscode": {
   "interpreter": {
    "hash": "3ad933181bd8a04b432d3370b9dc3b0662ad032c4dfaa4e4f1596c548f763858"
   }
  }
 },
 "nbformat": 4,
 "nbformat_minor": 2
}
