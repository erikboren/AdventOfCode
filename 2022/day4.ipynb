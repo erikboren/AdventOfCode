{
 "cells": [
  {
   "cell_type": "code",
   "execution_count": 1,
   "metadata": {},
   "outputs": [],
   "source": [
    "import numpy as np\n"
   ]
  },
  {
   "cell_type": "code",
   "execution_count": 2,
   "metadata": {},
   "outputs": [],
   "source": [
    "data_file = open(\"day4 data.txt\",\"r\")\n",
    "data = data_file.readlines()"
   ]
  },
  {
   "cell_type": "code",
   "execution_count": 3,
   "metadata": {},
   "outputs": [
    {
     "name": "stdout",
     "output_type": "stream",
     "text": [
      "1\n",
      "[array([5, 6]), array([ 5, 98])]\n"
     ]
    }
   ],
   "source": [
    "def split_line(line):\n",
    "\n",
    "    ranges = np.array(line.split(','))\n",
    "\n",
    "    range1 = np.array([int(ranges[0].split(\"-\")[0]),int(ranges[0].split(\"-\")[1])])\n",
    "\n",
    "    range2 = np.array([int(ranges[1].split(\"-\")[0]),int(ranges[1].split(\"-\")[1])])\n",
    "\n",
    "    output = [range1,range2]\n",
    "\n",
    "    return output\n",
    "\n",
    "def overlap(input):\n",
    "    \n",
    "    range1 = input[0][0]\n",
    "    range2 = input[0][1]\n",
    "\n",
    "    if(range1[0]<= range2[0] and range1[1]>=range2[1]):\n",
    "        return 1\n",
    "    elif(range2[0]<= range1[0] and range2[1]>=range1[1]):\n",
    "        return 1\n",
    "\n",
    "    return 0\n",
    "\n",
    "print(overlap([split_line('5-6,5-98\\n')]))\n",
    "\n",
    "print(split_line('5-6,5-98'))"
   ]
  },
  {
   "cell_type": "code",
   "execution_count": 4,
   "metadata": {},
   "outputs": [
    {
     "ename": "IndexError",
     "evalue": "invalid index to scalar variable.",
     "output_type": "error",
     "traceback": [
      "\u001b[1;31m---------------------------------------------------------------------------\u001b[0m",
      "\u001b[1;31mIndexError\u001b[0m                                Traceback (most recent call last)",
      "Cell \u001b[1;32mIn[4], line 3\u001b[0m\n\u001b[0;32m      1\u001b[0m overlap_sum \u001b[39m=\u001b[39m \u001b[39m0\u001b[39m\n\u001b[0;32m      2\u001b[0m \u001b[39mfor\u001b[39;00m idx,line \u001b[39min\u001b[39;00m \u001b[39menumerate\u001b[39m(data):\n\u001b[1;32m----> 3\u001b[0m     overlap_sum \u001b[39m=\u001b[39m overlap_sum \u001b[39m+\u001b[39m overlap(split_line(line))\n\u001b[0;32m      5\u001b[0m \u001b[39mprint\u001b[39m(overlap_sum)\n",
      "Cell \u001b[1;32mIn[3], line 18\u001b[0m, in \u001b[0;36moverlap\u001b[1;34m(input)\u001b[0m\n\u001b[0;32m     15\u001b[0m range1 \u001b[39m=\u001b[39m \u001b[39minput\u001b[39m[\u001b[39m0\u001b[39m][\u001b[39m0\u001b[39m]\n\u001b[0;32m     16\u001b[0m range2 \u001b[39m=\u001b[39m \u001b[39minput\u001b[39m[\u001b[39m0\u001b[39m][\u001b[39m1\u001b[39m]\n\u001b[1;32m---> 18\u001b[0m \u001b[39mif\u001b[39;00m(range1[\u001b[39m0\u001b[39;49m]\u001b[39m<\u001b[39m\u001b[39m=\u001b[39m range2[\u001b[39m0\u001b[39m] \u001b[39mand\u001b[39;00m range1[\u001b[39m1\u001b[39m]\u001b[39m>\u001b[39m\u001b[39m=\u001b[39mrange2[\u001b[39m1\u001b[39m]):\n\u001b[0;32m     19\u001b[0m     \u001b[39mreturn\u001b[39;00m \u001b[39m1\u001b[39m\n\u001b[0;32m     20\u001b[0m \u001b[39melif\u001b[39;00m(range2[\u001b[39m0\u001b[39m]\u001b[39m<\u001b[39m\u001b[39m=\u001b[39m range1[\u001b[39m0\u001b[39m] \u001b[39mand\u001b[39;00m range2[\u001b[39m1\u001b[39m]\u001b[39m>\u001b[39m\u001b[39m=\u001b[39mrange1[\u001b[39m1\u001b[39m]):\n",
      "\u001b[1;31mIndexError\u001b[0m: invalid index to scalar variable."
     ]
    }
   ],
   "source": [
    "overlap_sum = 0\n",
    "for idx,line in enumerate(data):\n",
    "    overlap_sum = overlap_sum + overlap(split_line(line))\n",
    "\n",
    "print(overlap_sum)"
   ]
  },
  {
   "cell_type": "code",
   "execution_count": null,
   "metadata": {},
   "outputs": [
    {
     "name": "stdout",
     "output_type": "stream",
     "text": [
      "1\n"
     ]
    }
   ],
   "source": [
    "def overlap2(inputs):\n",
    "    range1 = inputs[0][0]\n",
    "    range2 = inputs[0][1]\n",
    "\n",
    "    if(range1[0]<= range2[0] and range1[1] >= range2[0]):\n",
    "        return 1\n",
    "    elif(range2[0]<= range1[0] and range2[1] >= range1[0]):\n",
    "        return 1\n",
    "    else:\n",
    "        return 0\n",
    "\n",
    "print(overlap2([split_line('5-10,8-12\\n')]))"
   ]
  },
  {
   "cell_type": "code",
   "execution_count": null,
   "metadata": {},
   "outputs": [
    {
     "name": "stdout",
     "output_type": "stream",
     "text": [
      "907\n"
     ]
    }
   ],
   "source": [
    "overlap2_sum = 0\n",
    "for idx, line in enumerate(data):\n",
    "    overlap2_sum = overlap2_sum + overlap2([split_line(line)])\n",
    "\n",
    "\n",
    "print(overlap2_sum)"
   ]
  }
 ],
 "metadata": {
  "kernelspec": {
   "display_name": "Python 3",
   "language": "python",
   "name": "python3"
  },
  "language_info": {
   "codemirror_mode": {
    "name": "ipython",
    "version": 3
   },
   "file_extension": ".py",
   "mimetype": "text/x-python",
   "name": "python",
   "nbconvert_exporter": "python",
   "pygments_lexer": "ipython3",
   "version": "3.11.1"
  },
  "orig_nbformat": 4,
  "vscode": {
   "interpreter": {
    "hash": "8bc41e6480c7c9551f19763199b47943cd272aba123ea9e1d5484232a7c2b533"
   }
  }
 },
 "nbformat": 4,
 "nbformat_minor": 2
}
