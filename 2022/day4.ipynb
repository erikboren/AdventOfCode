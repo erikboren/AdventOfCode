{
 "cells": [
  {
   "cell_type": "code",
   "execution_count": 1,
   "metadata": {},
   "outputs": [],
   "source": [
    "import numpy as np\n"
   ]
  },
  {
   "cell_type": "code",
   "execution_count": 19,
   "metadata": {},
   "outputs": [],
   "source": [
    "data_file = open(\"day4 data.txt\",\"r\")\n",
    "data = data_file.readlines()"
   ]
  },
  {
   "cell_type": "code",
   "execution_count": 33,
   "metadata": {},
   "outputs": [
    {
     "name": "stdout",
     "output_type": "stream",
     "text": [
      "1\n",
      "[array([5, 6]), array([ 5, 98])]\n"
     ]
    }
   ],
   "source": [
    "def split_line(line):\n",
    "\n",
    "    ranges = np.array(line.split(','))\n",
    "\n",
    "    range1 = np.array([int(ranges[0].split(\"-\")[0]),int(ranges[0].split(\"-\")[1])])\n",
    "\n",
    "    range2 = np.array([int(ranges[1].split(\"-\")[0]),int(ranges[1].split(\"-\")[1])])\n",
    "\n",
    "    output = [range1,range2]\n",
    "\n",
    "    return output\n",
    "\n",
    "def overlap(input):\n",
    "    \n",
    "    range1 = input[0][0]\n",
    "    range2 = input[0][1]\n",
    "\n",
    "    if(range1[0]<= range2[0] and range1[1]>=range2[1]):\n",
    "        return 1\n",
    "    elif(range2[0]<= range1[0] and range2[1]>=range1[1]):\n",
    "        return 1\n",
    "\n",
    "    return 0\n",
    "\n",
    "print(overlap([split_line('5-6,5-98\\n')]))\n",
    "\n",
    "print(split_line('5-6,5-98'))"
   ]
  },
  {
   "cell_type": "code",
   "execution_count": 21,
   "metadata": {},
   "outputs": [
    {
     "name": "stdout",
     "output_type": "stream",
     "text": [
      "567\n"
     ]
    }
   ],
   "source": [
    "overlap_sum = 0\n",
    "for idx,line in enumerate(data):\n",
    "    overlap_sum = overlap_sum + overlap(split_line(line))\n",
    "\n",
    "print(overlap_sum)"
   ]
  },
  {
   "cell_type": "code",
   "execution_count": 40,
   "metadata": {},
   "outputs": [
    {
     "name": "stdout",
     "output_type": "stream",
     "text": [
      "1\n"
     ]
    }
   ],
   "source": [
    "def overlap2(inputs):\n",
    "    range1 = inputs[0][0]\n",
    "    range2 = inputs[0][1]\n",
    "\n",
    "    if(range1[0]<= range2[0] and range1[1] >= range2[0]):\n",
    "        return 1\n",
    "    elif(range2[0]<= range1[0] and range2[1] >= range1[0]):\n",
    "        return 1\n",
    "    else:\n",
    "        return 0\n",
    "\n",
    "print(overlap2([split_line('5-10,8-12\\n')]))"
   ]
  },
  {
   "cell_type": "code",
   "execution_count": 41,
   "metadata": {},
   "outputs": [
    {
     "name": "stdout",
     "output_type": "stream",
     "text": [
      "907\n"
     ]
    }
   ],
   "source": [
    "overlap2_sum = 0\n",
    "for idx, line in enumerate(data):\n",
    "    overlap2_sum = overlap2_sum + overlap2([split_line(line)])\n",
    "\n",
    "\n",
    "print(overlap2_sum)"
   ]
  }
 ],
 "metadata": {
  "kernelspec": {
   "display_name": "Python 3",
   "language": "python",
   "name": "python3"
  },
  "language_info": {
   "codemirror_mode": {
    "name": "ipython",
    "version": 3
   },
   "file_extension": ".py",
   "mimetype": "text/x-python",
   "name": "python",
   "nbconvert_exporter": "python",
   "pygments_lexer": "ipython3",
   "version": "3.9.0"
  },
  "orig_nbformat": 4,
  "vscode": {
   "interpreter": {
    "hash": "454075a846439ce2b363bdaa7791fad22a821ac5cf3cc53db47da379da7331e3"
   }
  }
 },
 "nbformat": 4,
 "nbformat_minor": 2
}
