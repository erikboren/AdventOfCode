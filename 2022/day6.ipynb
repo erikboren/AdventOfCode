{
 "cells": [
  {
   "cell_type": "code",
   "execution_count": 1,
   "metadata": {},
   "outputs": [
    {
     "name": "stdout",
     "output_type": "stream",
     "text": [
      "3452\n"
     ]
    }
   ],
   "source": [
    "data_file = open(\"day6 data.txt\",\"r\")\n",
    "data = data_file.readlines()[0]\n",
    "\n",
    "def allUnique(x):\n",
    "     seen = set()\n",
    "     return not any(i in seen or seen.add(i) for i in x)\n",
    "\n",
    "\n",
    "length = 14\n",
    "for idx,char in enumerate(data):\n",
    "    if(idx >= length):\n",
    "        if(allUnique(data[idx-length:idx])):\n",
    "            print(idx)\n",
    "            break\n",
    "\n"
   ]
  }
 ],
 "metadata": {
  "kernelspec": {
   "display_name": "Python 3",
   "language": "python",
   "name": "python3"
  },
  "language_info": {
   "codemirror_mode": {
    "name": "ipython",
    "version": 3
   },
   "file_extension": ".py",
   "mimetype": "text/x-python",
   "name": "python",
   "nbconvert_exporter": "python",
   "pygments_lexer": "ipython3",
   "version": "3.11.1"
  },
  "orig_nbformat": 4,
  "vscode": {
   "interpreter": {
    "hash": "8bc41e6480c7c9551f19763199b47943cd272aba123ea9e1d5484232a7c2b533"
   }
  }
 },
 "nbformat": 4,
 "nbformat_minor": 2
}
