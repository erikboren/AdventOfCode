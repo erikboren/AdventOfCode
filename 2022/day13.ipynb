{
 "cells": [
  {
   "cell_type": "code",
   "execution_count": 64,
   "metadata": {},
   "outputs": [],
   "source": [
    "\n",
    "with open(\"day13 data.txt\") as file:\n",
    "    input = file.read().strip()"
   ]
  },
  {
   "cell_type": "code",
   "execution_count": 65,
   "metadata": {},
   "outputs": [],
   "source": [
    "def compare(a,b):\n",
    "    if type(a) == int and type(b) == int:\n",
    "        if a > b:\n",
    "            return -1\n",
    "        if a < b:\n",
    "            return 1\n",
    "        else:\n",
    "            return 0\n",
    "    elif type(a) == list and type(b) == list:\n",
    "        idx = 0\n",
    "        while idx < len(a) and idx < len(b):\n",
    "            comp = compare(a[idx],b[idx])\n",
    "            if comp == 1 or comp == -1:\n",
    "                return comp\n",
    "            \n",
    "            idx += 1\n",
    "        \n",
    "        if len(a) == idx and len(b) > idx:\n",
    "            return 1\n",
    "        elif len(a) > idx and len(b) == idx:\n",
    "            return -1\n",
    "    elif type(a) == int and type(b) == list:\n",
    "        return compare([a],b)\n",
    "    else: \n",
    "        return compare(a,[b])\n",
    "\n",
    "\n"
   ]
  },
  {
   "cell_type": "code",
   "execution_count": 66,
   "metadata": {},
   "outputs": [
    {
     "name": "stdout",
     "output_type": "stream",
     "text": [
      "5555\n"
     ]
    }
   ],
   "source": [
    "packets = []\n",
    "\n",
    "part1 = 0\n",
    "\n",
    "for i,group in enumerate(input.split('\\n\\n')):\n",
    "    a,b = group.split('\\n')\n",
    "\n",
    "    a = eval(a)\n",
    "    b = eval(b)\n",
    "    \n",
    "    packets.append(a)\n",
    "    packets.append(b)\n",
    "    \n",
    "   \n",
    "\n",
    "    if(compare(a,b)==1):\n",
    "        part1 +=1+i\n",
    "print(part1)"
   ]
  },
  {
   "cell_type": "code",
   "execution_count": 67,
   "metadata": {},
   "outputs": [],
   "source": [
    "packets.append([[2]])\n",
    "packets.append([[6]])"
   ]
  },
  {
   "cell_type": "code",
   "execution_count": 68,
   "metadata": {},
   "outputs": [
    {
     "name": "stdout",
     "output_type": "stream",
     "text": [
      "19822\n"
     ]
    }
   ],
   "source": [
    "from functools import cmp_to_key\n",
    "packets = sorted(packets, key=cmp_to_key(lambda a,b: compare(a,b)))\n",
    "part2 = 1\n",
    "for i,p in enumerate(packets):\n",
    "    if p==[[2]] or p==[[6]]:\n",
    "        print(i)\n",
    "        part2 *= i+1\n",
    "print(part2)"
   ]
  }
 ],
 "metadata": {
  "kernelspec": {
   "display_name": "Python 3",
   "language": "python",
   "name": "python3"
  },
  "language_info": {
   "codemirror_mode": {
    "name": "ipython",
    "version": 3
   },
   "file_extension": ".py",
   "mimetype": "text/x-python",
   "name": "python",
   "nbconvert_exporter": "python",
   "pygments_lexer": "ipython3",
   "version": "3.11.1"
  },
  "orig_nbformat": 4,
  "vscode": {
   "interpreter": {
    "hash": "8bc41e6480c7c9551f19763199b47943cd272aba123ea9e1d5484232a7c2b533"
   }
  }
 },
 "nbformat": 4,
 "nbformat_minor": 2
}
