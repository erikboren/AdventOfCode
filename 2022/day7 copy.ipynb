{
 "cells": [
  {
   "cell_type": "code",
   "execution_count": 39,
   "execution_count": 1,
   "metadata": {},
   "outputs": [],
   "source": [
    "with open(\"day7 data.txt\") as file:\n",
    "    operations = file.readlines()\n",
    "# Open file and read the lines into operations variable\n",
    "\n",
    "\n"
   ]
  },
  {
   "cell_type": "code",
   "execution_count": 40,
   "metadata": {},
   "outputs": [],
   "source": [
    "folders = dict()\n",
    "\n",
    "folders.update({\"/start\":0})\n",
    "\n",
    "path = \"/start\""
   ]
  },
  {
   "cell_type": "code",
   "execution_count": 2,
   "metadata": {},
   "outputs": [],
   "source": [
    "def sum_dict(size_dict):\n",
    "    sum_dict = dict()\n",
    "    for idx,path in enumerate(size_dict):\n",
    "        sum_dict[path] = 0\n",
    "        for path2 in size_dict:\n",
    "            if path2.startswith(path):\n",
    "                sum_dict[path] += size_dict[path2]\n",
    "        \n",
    "    return sum_dict\n",
    "\n",
    "    elif operation == \"$ cd /\":\n",
    "        path = \"/start\"\n",
    "\n",
    "    elif operation.startswith(\"$ cd\"):\n",
    "        new_folder = operation[5:]\n",
    "        path = path + \"/\" + new_folder\n",
    "        folders.update({path:0})\n",
    "\n",
    "    elif operation.startswith(\"$ ls\") or operation.startswith(\"dir\"):\n",
    "        pass\n",
    "\n",
    "    else:\n",
    "        size = int(operation[:operation.find(\" \")])\n",
    "        path_to_update = path\n",
    "        for i in range(path.count(\"/\")):\n",
    "            folders[path_to_update] += size\n",
    "            path_to_update= path_to_update[:path_to_update.rfind(\"/\")]\n"
   ]
  },
  {
   "cell_type": "code",
<<<<<<< HEAD
   "execution_count": 47,
=======
   "execution_count": 3,
>>>>>>> 2bcbe32dc385b9eb8986c757d29b6dabbf83b5a7
   "metadata": {},
   "outputs": [
    {
     "name": "stdout",
     "output_type": "stream",
     "text": [
      "1077191\n",
      "45174025\n"
     ]
    }
   ],
   "source": [
<<<<<<< HEAD
    "total = 0\n",
    "paths = []\n",
    "limit = 30000000 - (70000000 - folders[\"/start\"])\n",
    "for folder in folders:\n",
    "    if folders[folder]<= 100000:\n",
    "        total += folders[folder]\n",
    "    \n",
    "    if folders[folder] >= limit:\n",
    "        paths.append(folders[folder])\n",
=======
    "sum = 0\n",
    "for path in path_sum:\n",
    "    if(path_sum[path]<=100000):\n",
    "        sum += path_sum[path]\n",
    "\n",
    "print(sum)\n",
    "# 1027500 is wrong!!"
   ]
  },
  {
   "cell_type": "code",
   "execution_count": 4,
   "metadata": {},
   "outputs": [],
   "source": [
    "class tree:\n",
    "    def __init__(self):\n",
    "        self.tree = dict()\n",
>>>>>>> 2bcbe32dc385b9eb8986c757d29b6dabbf83b5a7
    "\n",
    "print(total)\n",
    "\n",
    "print(min(paths))"
   ]
  }
 ],
 "metadata": {
  "kernelspec": {
   "display_name": "Python 3",
   "language": "python",
   "name": "python3"
  },
  "language_info": {
   "codemirror_mode": {
    "name": "ipython",
    "version": 3
   },
   "file_extension": ".py",
   "mimetype": "text/x-python",
   "name": "python",
   "nbconvert_exporter": "python",
   "pygments_lexer": "ipython3",
   "version": "3.10.4"
  },
  "orig_nbformat": 4,
  "vscode": {
   "interpreter": {
    "hash": "3ad933181bd8a04b432d3370b9dc3b0662ad032c4dfaa4e4f1596c548f763858"
   }
  }
 },
 "nbformat": 4,
 "nbformat_minor": 2
}
