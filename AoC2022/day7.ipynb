{
 "cells": [
  {
   "cell_type": "code",
   "execution_count": 60,
   "metadata": {},
   "outputs": [
    {
     "name": "stdout",
     "output_type": "stream",
     "text": [
      "/ 14848514\n",
      "/ 8504156\n",
      "/a/ 29116\n",
      "/a/ 2557\n",
      "/a/ 62596\n",
      "/a/e/ 584\n",
      "/d/ 4060174\n",
      "/d/ 8033020\n",
      "/d/ 5626152\n",
      "/d/ 7214296\n",
      "{'/': 23352670, '/a/': 94269, '/a/e/': 584, '/d/': 24933642}\n"
     ]
    }
   ],
   "source": [
    "data_file = open(\"day7 sample.txt\",\"r\")\n",
    "data = data_file.readlines()\n",
    "\n",
    "size_dict = dict()\n",
    "\n",
    "def parse_tree(data, size_dict):\n",
    "    path = \"\"\n",
    "    for idx,line in enumerate(data):\n",
    "        if(line.startswith(\"$ cd ..\")):\n",
    "            path_to_remove = path.split(\"/\")[-2:-1]\n",
    "            path = path[0:len(path)-len(path_to_remove)-1]\n",
    "        elif(line.startswith(\"$ cd\")):\n",
    "            path_ext = line.split(\" \")[2].split(\"\\n\")[0]\n",
    "            if(path_ext == \"/\"):\n",
    "                path = \"/\"\n",
    "            else:\n",
    "                path +=  line.split(\" \")[2].split(\"\\n\")[0]+ \"/\"\n",
    "        elif(line[0].isnumeric()):\n",
    "            size = int(line.split(\" \")[0])\n",
    "            if path in size_dict:\n",
    "                size_dict[path] += size\n",
    "            else: \n",
    "                size_dict[path] = size\n",
    "            print(path,size)\n",
    "        \n",
    "\n",
    "\n",
    "parse_tree(data,size_dict)\n",
    "print(size_dict)"
   ]
  },
  {
   "cell_type": "code",
   "execution_count": null,
   "metadata": {},
   "outputs": [],
   "source": [
    "def sum_dict(size_dict):\n",
    "    sum_dict = dict()\n",
    "    for idx,path in enumerate(size_dict):\n",
    "        sum_dict[path] = 0\n",
    "        for path2 in size_dict:\n",
    "            if path in path2:\n",
    "                sum_dict[path] += size_dict[path2]\n",
    "        \n",
    "    return sum_dict\n",
    "\n",
    "sum_dict = sum_dict(size_dict)\n",
    "\n",
    "print(sum_dict)\n",
    "\n",
    "\n"
   ]
  },
  {
   "cell_type": "code",
   "execution_count": 59,
   "metadata": {},
   "outputs": [
    {
     "name": "stdout",
     "output_type": "stream",
     "text": [
      "1027500\n"
     ]
    }
   ],
   "source": [
    "sum = 0\n",
    "for path in sum_dict:\n",
    "    if(sum_dict[path]<=100000):\n",
    "        sum += sum_dict[path]\n",
    "\n",
    "print(sum)"
   ]
  },
  {
   "cell_type": "code",
   "execution_count": 61,
   "metadata": {},
   "outputs": [],
   "source": [
    "class tree:\n",
    "    def __init__(self):\n",
    "        self.tree = dict()\n",
    "\n",
    "\n",
    "class folder:\n",
    "    def __init__(self,path):\n",
    "        self.path = path\n",
    "        self.size = 0"
   ]
  }
 ],
 "metadata": {
  "kernelspec": {
   "display_name": "Python 3",
   "language": "python",
   "name": "python3"
  },
  "language_info": {
   "codemirror_mode": {
    "name": "ipython",
    "version": 3
   },
   "file_extension": ".py",
   "mimetype": "text/x-python",
   "name": "python",
   "nbconvert_exporter": "python",
   "pygments_lexer": "ipython3",
   "version": "3.9.0"
  },
  "orig_nbformat": 4,
  "vscode": {
   "interpreter": {
    "hash": "454075a846439ce2b363bdaa7791fad22a821ac5cf3cc53db47da379da7331e3"
   }
  }
 },
 "nbformat": 4,
 "nbformat_minor": 2
}
