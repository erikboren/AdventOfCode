{
 "cells": [
  {
   "cell_type": "code",
   "execution_count": 1,
   "metadata": {},
   "outputs": [],
   "source": [
    "import numpy as np\n"
   ]
  },
  {
   "cell_type": "code",
   "execution_count": 37,
   "metadata": {},
   "outputs": [],
   "source": [
    "data_file = open(\"day2 data.txt\",\"r\")\n",
    "data = data_file.readlines()"
   ]
  },
  {
   "cell_type": "code",
   "execution_count": 46,
   "metadata": {},
   "outputs": [],
   "source": [
    "#1 Rock, 2 Paper, 3 Scissors\n",
    "#Loss 0, Draw 3, Win 6\n",
    "# A B C\n",
    "#X Y Z\n",
    "\n",
    "# Kunde har gjorts bättre med ASCII-värden samt en matris med vilka som vinner när.\n",
    "def rps(opponent,you, mode=1):\n",
    "    moves_you = np.array(['X', 'Y', 'Z'])\n",
    "    moves_opponent = np.array(['A', 'B', 'C'])\n",
    "    \n",
    "    if(mode == 2):\n",
    "        outcome = you\n",
    "        outcomes = moves_you\n",
    "\n",
    "        desired_outcome = np.where(outcomes == outcome)[0][0]\n",
    "        opponent_move = np.where(moves_opponent == opponent)[0][0]\n",
    "        \n",
    "        your_move = 0\n",
    "\n",
    "        if(desired_outcome == 1):\n",
    "            your_move = moves_you[opponent_move]\n",
    "        elif(desired_outcome == 0):\n",
    "            if(opponent_move == 0):\n",
    "                your_move = moves_you[2]\n",
    "            else:\n",
    "                your_move = moves_you[opponent_move-1]\n",
    "        elif(desired_outcome == 2):\n",
    "            if(opponent_move == 2):\n",
    "                your_move = moves_you[0]\n",
    "            else:\n",
    "                your_move = moves_you[opponent_move+1]\n",
    "        return rps(opponent,your_move)\n",
    "    \n",
    "    moves_you = np.array(['X', 'Y', 'Z'])\n",
    "    moves_opponent = np.array(['A', 'B', 'C'])\n",
    "    result = np.where(moves_you == you)[0][0] - np.where(moves_opponent == opponent)[0][0]\n",
    "    points = np.where(moves_you == you)[0][0]+1\n",
    "\n",
    "    if(result == 0):\n",
    "        # Draw\n",
    "        points = points + 3\n",
    "    elif(result == 1 or result == -2):\n",
    "        # You win\n",
    "        points = points + 6\n",
    "    elif(result == 2 or result == -1 ):\n",
    "        # You lose\n",
    "        points = points\n",
    "\n",
    "    return points\n",
    "\n"
   ]
  },
  {
   "cell_type": "code",
   "execution_count": 45,
   "metadata": {},
   "outputs": [
    {
     "name": "stdout",
     "output_type": "stream",
     "text": [
      "9177\n"
     ]
    }
   ],
   "source": [
    "score = 0\n",
    "for idx,line in enumerate(data):\n",
    "    opponent = line.split(\" \")[0]\n",
    "    you = line.split(\" \")[1].split(\"\\n\")[0]\n",
    "    score = score + rps(opponent, you)\n",
    "\n",
    "print(score)"
   ]
  },
  {
   "cell_type": "code",
   "execution_count": 47,
   "metadata": {},
   "outputs": [
    {
     "name": "stdout",
     "output_type": "stream",
     "text": [
      "12111\n"
     ]
    }
   ],
   "source": [
    "# Find the right move:\n",
    "\n",
    "# X win, Y draw, Z lose\n",
    "\n",
    "score2 = 0\n",
    "for idx,line in enumerate(data):\n",
    "    opponent = line.split(\" \")[0]\n",
    "    you = line.split(\" \")[1].split(\"\\n\")[0]\n",
    "    score2 = score2 + rps(opponent, you,2)\n",
    "\n",
    "print(score2)\n",
    "\n"
   ]
  },
  {
   "cell_type": "code",
   "execution_count": 49,
   "metadata": {},
   "outputs": [
    {
     "name": "stdout",
     "output_type": "stream",
     "text": [
      "r\n"
     ]
    }
   ],
   "source": []
  },
  {
   "cell_type": "code",
   "execution_count": null,
   "metadata": {},
   "outputs": [],
   "source": []
  }
 ],
 "metadata": {
  "kernelspec": {
   "display_name": "Python 3",
   "language": "python",
   "name": "python3"
  },
  "language_info": {
   "codemirror_mode": {
    "name": "ipython",
    "version": 3
   },
   "file_extension": ".py",
   "mimetype": "text/x-python",
   "name": "python",
   "nbconvert_exporter": "python",
   "pygments_lexer": "ipython3",
   "version": "3.9.0 (tags/v3.9.0:9cf6752, Oct  5 2020, 15:34:40) [MSC v.1927 64 bit (AMD64)]"
  },
  "orig_nbformat": 4,
  "vscode": {
   "interpreter": {
    "hash": "454075a846439ce2b363bdaa7791fad22a821ac5cf3cc53db47da379da7331e3"
   }
  }
 },
 "nbformat": 4,
 "nbformat_minor": 2
}
