{
 "cells": [
  {
   "cell_type": "code",
   "execution_count": 61,
   "metadata": {},
   "outputs": [],
   "source": [
    "import numpy as np\n"
   ]
  },
  {
   "cell_type": "code",
   "execution_count": 62,
   "metadata": {},
   "outputs": [],
   "source": [
    "data_file = open(\"day3 data.txt\",\"r\")\n",
    "data = data_file.readlines()"
   ]
  },
  {
   "cell_type": "code",
   "execution_count": 63,
   "metadata": {},
   "outputs": [
    {
     "name": "stdout",
     "output_type": "stream",
     "text": [
      "p\n"
     ]
    }
   ],
   "source": [
    "def find_duplicates(pack):\n",
    "    size = len(pack)\n",
    "    first_compartment = pack[0: int(size/2)]\n",
    "    second_compartment = pack[int(size/2):size+1]\n",
    "\n",
    "\n",
    "    for idx1,item1 in enumerate(first_compartment):\n",
    "        for idx2, item2 in enumerate(second_compartment):\n",
    "            if(item1 == item2):\n",
    "                return item1\n",
    "\n",
    "\n",
    "    return 'Nothing'\n",
    "\n",
    "print(find_duplicates(\"vJrwpWtwJgWrhcsFMMfFFhFp\"))\n"
   ]
  },
  {
   "cell_type": "code",
   "execution_count": 64,
   "metadata": {},
   "outputs": [
    {
     "name": "stdout",
     "output_type": "stream",
     "text": [
      "16\n"
     ]
    }
   ],
   "source": [
    "def calculate_priority(item):\n",
    "    \n",
    "    if(item == 'Nothing'):\n",
    "        return 0\n",
    "    \n",
    "    item_ascii = ord(item)\n",
    "    if(item.upper() == item):\n",
    "        # Uppercase letter\n",
    "        priority = item_ascii -65 + 27\n",
    "        return priority\n",
    "    elif(item.lower() == item):\n",
    "        # Lower case letter\n",
    "        priority = item_ascii - 97 + 1\n",
    "        return priority\n",
    "\n",
    "print(calculate_priority('p'))"
   ]
  },
  {
   "cell_type": "code",
   "execution_count": 65,
   "metadata": {},
   "outputs": [
    {
     "name": "stdout",
     "output_type": "stream",
     "text": [
      "7716\n"
     ]
    }
   ],
   "source": [
    "priority_sum = 0\n",
    "for idx,line in enumerate(data):\n",
    "    pack = line.split('\\n')[0]\n",
    "    priority_sum = priority_sum + calculate_priority(find_duplicates(pack))\n",
    "print(priority_sum)"
   ]
  },
  {
   "cell_type": "code",
   "execution_count": 66,
   "metadata": {},
   "outputs": [
    {
     "name": "stdout",
     "output_type": "stream",
     "text": [
      "r\n"
     ]
    }
   ],
   "source": [
    "def find_common_item(pack1,pack2,pack3):\n",
    "\n",
    "    for item1 in pack1:\n",
    "        for item2 in pack2:\n",
    "            for item3 in pack3:\n",
    "                if item1 == item2 == item3:\n",
    "                    return item1\n",
    "\n",
    "# vJrwpWtwJgWrhcsFMMfFFhFp\n",
    "# jqHRNqRjqzjGDLGLrsFMfFZSrLrFZsSL\n",
    "# PmmdzqPrVvPwwTWBwg\n",
    "\n",
    "print(find_common_item('vJrwpWtwJgWrhcsFMMfFFhFp', 'jqHRNqRjqzjGDLGLrsFMfFZSrLrFZsSL', 'PmmdzqPrVvPwwTWBwg' ))"
   ]
  },
  {
   "cell_type": "code",
   "execution_count": 67,
   "metadata": {},
   "outputs": [
    {
     "name": "stdout",
     "output_type": "stream",
     "text": [
      "2973\n"
     ]
    }
   ],
   "source": [
    "badge_sum = 0\n",
    "\n",
    "for idx,line in enumerate(data):\n",
    "    if(idx % 3 == 0):\n",
    "        badge = find_common_item(data[idx], data[idx+1], data[idx+2])\n",
    "        badge_sum = badge_sum + calculate_priority(badge)\n",
    "\n",
    "print(badge_sum)"
   ]
  }
 ],
 "metadata": {
  "kernelspec": {
   "display_name": "Python 3",
   "language": "python",
   "name": "python3"
  },
  "language_info": {
   "codemirror_mode": {
    "name": "ipython",
    "version": 3
   },
   "file_extension": ".py",
   "mimetype": "text/x-python",
   "name": "python",
   "nbconvert_exporter": "python",
   "pygments_lexer": "ipython3",
   "version": "3.9.0"
  },
  "orig_nbformat": 4,
  "vscode": {
   "interpreter": {
    "hash": "454075a846439ce2b363bdaa7791fad22a821ac5cf3cc53db47da379da7331e3"
   }
  }
 },
 "nbformat": 4,
 "nbformat_minor": 2
}
